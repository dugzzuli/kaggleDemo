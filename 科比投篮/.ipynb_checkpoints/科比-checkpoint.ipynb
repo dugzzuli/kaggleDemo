{
 "cells": [
  {
   "cell_type": "code",
   "execution_count": 2,
   "metadata": {
    "collapsed": false
   },
   "outputs": [
    {
     "data": {
      "text/plain": [
       "\"\\nThis data contains the location and circumstances of every field goal attempted by Kobe Bryant took during his 20-year career.\\nYour task is to predict whether the basket went in (shot_made_flag).\\n\\nWe have removed 5000 of the shot_made_flags (represented as missing values in the csv file).\\nThese are the test set shots for which you must submit a prediction. \\nYou are provided a sample submission file with the correct shot_ids needed for a valid prediction.\\n\\nTo avoid leakage, your method should only train on events that occurred prior to the shot for which you are predicting! \\nSince this is a playground competition with public answers, it's up to you to abide by this rule.\\n\""
      ]
     },
     "execution_count": 2,
     "metadata": {},
     "output_type": "execute_result"
    }
   ],
   "source": [
    "'''\n",
    "This data contains the location and circumstances of every field goal attempted by Kobe Bryant took during his 20-year career.\n",
    "Your task is to predict whether the basket went in (shot_made_flag).\n",
    "\n",
    "We have removed 5000 of the shot_made_flags (represented as missing values in the csv file).\n",
    "These are the test set shots for which you must submit a prediction. \n",
    "You are provided a sample submission file with the correct shot_ids needed for a valid prediction.\n",
    "\n",
    "To avoid leakage, your method should only train on events that occurred prior to the shot for which you are predicting! \n",
    "Since this is a playground competition with public answers, it's up to you to abide by this rule.\n",
    "'''"
   ]
  },
  {
   "cell_type": "code",
   "execution_count": 143,
   "metadata": {
    "collapsed": true
   },
   "outputs": [],
   "source": [
    "import pandas as pd"
   ]
  },
  {
   "cell_type": "code",
   "execution_count": 144,
   "metadata": {
    "collapsed": false
   },
   "outputs": [],
   "source": [
    "df = pd.read_csv('data.csv',header=0,delimiter=',')  \n"
   ]
  },
  {
   "cell_type": "code",
   "execution_count": 145,
   "metadata": {
    "collapsed": true
   },
   "outputs": [],
   "source": [
    "import pandas as pd\n",
    "import numpy as np\n",
    "from sklearn.linear_model import LogisticRegression\n",
    "from sklearn.grid_search import GridSearchCV\n",
    "from sklearn.preprocessing import LabelEncoder\n",
    "from sklearn.preprocessing import StandardScaler\n",
    "from sklearn import svm\n",
    "from sklearn.ensemble import RandomForestClassifier"
   ]
  },
  {
   "cell_type": "code",
   "execution_count": 146,
   "metadata": {
    "collapsed": false
   },
   "outputs": [],
   "source": [
    "action_type = LabelEncoder()\n",
    "acti_label=action_type.fit(df['action_type']).transform(df['action_type'])"
   ]
  },
  {
   "cell_type": "code",
   "execution_count": 147,
   "metadata": {
    "collapsed": false
   },
   "outputs": [
    {
     "data": {
      "text/plain": [
       "30697"
      ]
     },
     "execution_count": 147,
     "metadata": {},
     "output_type": "execute_result"
    }
   ],
   "source": [
    "len(acti_label)"
   ]
  },
  {
   "cell_type": "code",
   "execution_count": 148,
   "metadata": {
    "collapsed": false
   },
   "outputs": [
    {
     "data": {
      "text/plain": [
       "57"
      ]
     },
     "execution_count": 148,
     "metadata": {},
     "output_type": "execute_result"
    }
   ],
   "source": [
    "len(np.unique(acti_label))"
   ]
  },
  {
   "cell_type": "code",
   "execution_count": 149,
   "metadata": {
    "collapsed": false
   },
   "outputs": [],
   "source": [
    "df[\"action_type\"]=acti_label"
   ]
  },
  {
   "cell_type": "code",
   "execution_count": 150,
   "metadata": {
    "collapsed": true
   },
   "outputs": [],
   "source": [
    "#combined_shot_type\n",
    "combined_shot_type = LabelEncoder()\n",
    "combined_shot_type_label=combined_shot_type.fit(df['combined_shot_type']).transform(df['combined_shot_type'])\n"
   ]
  },
  {
   "cell_type": "code",
   "execution_count": 151,
   "metadata": {
    "collapsed": false
   },
   "outputs": [],
   "source": [
    "df[\"combined_shot_type\"]=combined_shot_type_label"
   ]
  },
  {
   "cell_type": "code",
   "execution_count": 152,
   "metadata": {
    "collapsed": true
   },
   "outputs": [],
   "source": [
    "#matchup\n",
    "\n",
    "matchup = LabelEncoder()\n",
    "matchup_label=combined_shot_type.fit(df['matchup']).transform(df['matchup'])"
   ]
  },
  {
   "cell_type": "code",
   "execution_count": 153,
   "metadata": {
    "collapsed": true
   },
   "outputs": [],
   "source": [
    "df[\"matchup\"]=matchup_label"
   ]
  },
  {
   "cell_type": "code",
   "execution_count": 154,
   "metadata": {
    "collapsed": true
   },
   "outputs": [],
   "source": [
    "#opponent\n",
    "opponent = LabelEncoder()\n",
    "opponent_label=combined_shot_type.fit(df['opponent']).transform(df['opponent'])"
   ]
  },
  {
   "cell_type": "code",
   "execution_count": 155,
   "metadata": {
    "collapsed": true
   },
   "outputs": [],
   "source": [
    "df[\"opponent\"]=opponent_label"
   ]
  },
  {
   "cell_type": "code",
   "execution_count": null,
   "metadata": {
    "collapsed": true
   },
   "outputs": [],
   "source": [
    "df.pop(\"team_name\")"
   ]
  },
  {
   "cell_type": "code",
   "execution_count": 157,
   "metadata": {
    "collapsed": false
   },
   "outputs": [
    {
     "data": {
      "text/plain": [
       "0        20000012\n",
       "1        20000012\n",
       "2        20000012\n",
       "3        20000012\n",
       "4        20000012\n",
       "5        20000012\n",
       "6        20000012\n",
       "7        20000012\n",
       "8        20000012\n",
       "9        20000012\n",
       "10       20000012\n",
       "11       20000019\n",
       "12       20000019\n",
       "13       20000019\n",
       "14       20000019\n",
       "15       20000019\n",
       "16       20000019\n",
       "17       20000019\n",
       "18       20000019\n",
       "19       20000019\n",
       "20       20000019\n",
       "21       20000019\n",
       "22       20000019\n",
       "23       20000019\n",
       "24       20000019\n",
       "25       20000019\n",
       "26       20000019\n",
       "27       20000019\n",
       "28       20000019\n",
       "29       20000019\n",
       "           ...   \n",
       "30667    49900087\n",
       "30668    49900087\n",
       "30669    49900087\n",
       "30670    49900088\n",
       "30671    49900088\n",
       "30672    49900088\n",
       "30673    49900088\n",
       "30674    49900088\n",
       "30675    49900088\n",
       "30676    49900088\n",
       "30677    49900088\n",
       "30678    49900088\n",
       "30679    49900088\n",
       "30680    49900088\n",
       "30681    49900088\n",
       "30682    49900088\n",
       "30683    49900088\n",
       "30684    49900088\n",
       "30685    49900088\n",
       "30686    49900088\n",
       "30687    49900088\n",
       "30688    49900088\n",
       "30689    49900088\n",
       "30690    49900088\n",
       "30691    49900088\n",
       "30692    49900088\n",
       "30693    49900088\n",
       "30694    49900088\n",
       "30695    49900088\n",
       "30696    49900088\n",
       "Name: game_id, dtype: int64"
      ]
     },
     "execution_count": 157,
     "metadata": {},
     "output_type": "execute_result"
    }
   ],
   "source": [
    "df.pop(\"game_id\")"
   ]
  },
  {
   "cell_type": "code",
   "execution_count": 158,
   "metadata": {
    "collapsed": true
   },
   "outputs": [],
   "source": [
    "#shot_zone_area\n",
    "shot_zone_area = LabelEncoder()\n",
    "shot_zone_area_label=combined_shot_type.fit(df['shot_zone_area']).transform(df['shot_zone_area'])"
   ]
  },
  {
   "cell_type": "code",
   "execution_count": 159,
   "metadata": {
    "collapsed": true
   },
   "outputs": [],
   "source": [
    "\n",
    "df[\"shot_zone_area\"]=shot_zone_area_label"
   ]
  },
  {
   "cell_type": "code",
   "execution_count": 160,
   "metadata": {
    "collapsed": true
   },
   "outputs": [],
   "source": [
    "#shot_type\n",
    "shot_type = LabelEncoder()\n",
    "shot_type_label=combined_shot_type.fit(df['shot_type']).transform(df['shot_type'])"
   ]
  },
  {
   "cell_type": "code",
   "execution_count": 161,
   "metadata": {
    "collapsed": true
   },
   "outputs": [],
   "source": [
    "df[\"shot_type\"]=shot_type_label"
   ]
  },
  {
   "cell_type": "code",
   "execution_count": 162,
   "metadata": {
    "collapsed": true
   },
   "outputs": [],
   "source": [
    "#shot_zone_basic\n",
    "shot_zone_basic = LabelEncoder()\n",
    "shot_zone_basic_label=combined_shot_type.fit(df['shot_zone_basic']).transform(df['shot_zone_basic'])"
   ]
  },
  {
   "cell_type": "code",
   "execution_count": 163,
   "metadata": {
    "collapsed": true
   },
   "outputs": [],
   "source": [
    "df[\"shot_zone_basic\"]=shot_zone_basic_label"
   ]
  },
  {
   "cell_type": "code",
   "execution_count": 164,
   "metadata": {
    "collapsed": false
   },
   "outputs": [
    {
     "data": {
      "text/plain": [
       "0         Jan-00\n",
       "1         Jan-00\n",
       "2         Jan-00\n",
       "3         Jan-00\n",
       "4         Jan-00\n",
       "5         Jan-00\n",
       "6         Jan-00\n",
       "7         Jan-00\n",
       "8         Jan-00\n",
       "9         Jan-00\n",
       "10        Jan-00\n",
       "11        Jan-00\n",
       "12        Jan-00\n",
       "13        Jan-00\n",
       "14        Jan-00\n",
       "15        Jan-00\n",
       "16        Jan-00\n",
       "17        Jan-00\n",
       "18        Jan-00\n",
       "19        Jan-00\n",
       "20        Jan-00\n",
       "21        Jan-00\n",
       "22        Jan-00\n",
       "23        Jan-00\n",
       "24        Jan-00\n",
       "25        Jan-00\n",
       "26        Jan-00\n",
       "27        Jan-00\n",
       "28        Jan-00\n",
       "29        Jan-00\n",
       "          ...   \n",
       "30667    1999-00\n",
       "30668    1999-00\n",
       "30669    1999-00\n",
       "30670    1999-00\n",
       "30671    1999-00\n",
       "30672    1999-00\n",
       "30673    1999-00\n",
       "30674    1999-00\n",
       "30675    1999-00\n",
       "30676    1999-00\n",
       "30677    1999-00\n",
       "30678    1999-00\n",
       "30679    1999-00\n",
       "30680    1999-00\n",
       "30681    1999-00\n",
       "30682    1999-00\n",
       "30683    1999-00\n",
       "30684    1999-00\n",
       "30685    1999-00\n",
       "30686    1999-00\n",
       "30687    1999-00\n",
       "30688    1999-00\n",
       "30689    1999-00\n",
       "30690    1999-00\n",
       "30691    1999-00\n",
       "30692    1999-00\n",
       "30693    1999-00\n",
       "30694    1999-00\n",
       "30695    1999-00\n",
       "30696    1999-00\n",
       "Name: season, dtype: object"
      ]
     },
     "execution_count": 164,
     "metadata": {},
     "output_type": "execute_result"
    }
   ],
   "source": [
    "df.pop(\"season\")"
   ]
  },
  {
   "cell_type": "code",
   "execution_count": 165,
   "metadata": {
    "collapsed": false
   },
   "outputs": [],
   "source": [
    "#获取训练数据\n",
    "\n",
    "train_data=df[df.shot_made_flag.notnull()]\n",
    "y_train=train_data.pop(\"shot_made_flag\")\n",
    "test_data=df[df.shot_made_flag.isnull()]"
   ]
  },
  {
   "cell_type": "code",
   "execution_count": 166,
   "metadata": {
    "collapsed": false
   },
   "outputs": [],
   "source": [
    "x_train=pd.DataFrame(x_train)"
   ]
  },
  {
   "cell_type": "code",
   "execution_count": 167,
   "metadata": {
    "collapsed": false
   },
   "outputs": [
    {
     "data": {
      "text/plain": [
       "(25697, 18)"
      ]
     },
     "execution_count": 167,
     "metadata": {},
     "output_type": "execute_result"
    }
   ],
   "source": [
    "x_train.shape"
   ]
  },
  {
   "cell_type": "code",
   "execution_count": 168,
   "metadata": {
    "collapsed": false
   },
   "outputs": [
    {
     "data": {
      "text/plain": [
       "(5000, 19)"
      ]
     },
     "execution_count": 168,
     "metadata": {},
     "output_type": "execute_result"
    }
   ],
   "source": [
    "test_data.shape"
   ]
  },
  {
   "cell_type": "code",
   "execution_count": 170,
   "metadata": {
    "collapsed": false
   },
   "outputs": [],
   "source": [
    "id_list=test_data[\"shot_id\"]"
   ]
  },
  {
   "cell_type": "code",
   "execution_count": 171,
   "metadata": {
    "collapsed": false
   },
   "outputs": [],
   "source": [
    "scaler = StandardScaler().fit(train_data)\n",
    "x_train = scaler.transform(train_data)"
   ]
  },
  {
   "cell_type": "code",
   "execution_count": 172,
   "metadata": {
    "collapsed": true
   },
   "outputs": [],
   "source": [
    "scaler = StandardScaler().fit(train_data)\n",
    "x_train = scaler.transform(train_data)"
   ]
  },
  {
   "cell_type": "code",
   "execution_count": 173,
   "metadata": {
    "collapsed": false
   },
   "outputs": [
    {
     "data": {
      "text/plain": [
       "LogisticRegression(C=2000, class_weight=None, dual=False, fit_intercept=True,\n",
       "          intercept_scaling=1, max_iter=100, multi_class='multinomial',\n",
       "          n_jobs=1, penalty='l2', random_state=None, solver='newton-cg',\n",
       "          tol=0.0001, verbose=0, warm_start=False)"
      ]
     },
     "execution_count": 173,
     "metadata": {},
     "output_type": "execute_result"
    }
   ],
   "source": [
    "log_reg = LogisticRegression(C=2000, multi_class=\"multinomial\", tol=0.0001, solver='newton-cg')\n",
    "log_reg.fit(train_data, y_train)"
   ]
  },
  {
   "cell_type": "code",
   "execution_count": 174,
   "metadata": {
    "collapsed": false
   },
   "outputs": [
    {
     "name": "stdout",
     "output_type": "stream",
     "text": [
      "<class 'pandas.core.frame.DataFrame'>\n",
      "Int64Index: 5000 entries, 0 to 30693\n",
      "Data columns (total 19 columns):\n",
      "action_type           5000 non-null int64\n",
      "combined_shot_type    5000 non-null int64\n",
      "game_event_id         5000 non-null int64\n",
      "lat                   5000 non-null float64\n",
      "loc_x                 5000 non-null int64\n",
      "loc_y                 5000 non-null int64\n",
      "lon                   5000 non-null float64\n",
      "minutes_remaining     5000 non-null int64\n",
      "period                5000 non-null int64\n",
      "playoffs              5000 non-null int64\n",
      "seconds_remaining     5000 non-null int64\n",
      "shot_distance         5000 non-null int64\n",
      "shot_made_flag        0 non-null float64\n",
      "shot_type             5000 non-null int64\n",
      "shot_zone_area        5000 non-null int64\n",
      "shot_zone_basic       5000 non-null int64\n",
      "matchup               5000 non-null int64\n",
      "opponent              5000 non-null int64\n",
      "shot_id               5000 non-null int64\n",
      "dtypes: float64(3), int64(16)\n",
      "memory usage: 781.2 KB\n"
     ]
    }
   ],
   "source": [
    "pd.DataFrame(test_data).info()"
   ]
  },
  {
   "cell_type": "code",
   "execution_count": 175,
   "metadata": {
    "collapsed": false
   },
   "outputs": [],
   "source": [
    "test_data=pd.DataFrame(test_data)"
   ]
  },
  {
   "cell_type": "code",
   "execution_count": null,
   "metadata": {
    "collapsed": false
   },
   "outputs": [],
   "source": []
  },
  {
   "cell_type": "code",
   "execution_count": 176,
   "metadata": {
    "collapsed": false
   },
   "outputs": [
    {
     "data": {
      "text/plain": [
       "(5000, 19)"
      ]
     },
     "execution_count": 176,
     "metadata": {},
     "output_type": "execute_result"
    }
   ],
   "source": [
    "test_data.shape"
   ]
  },
  {
   "cell_type": "code",
   "execution_count": 177,
   "metadata": {
    "collapsed": false
   },
   "outputs": [
    {
     "data": {
      "text/plain": [
       "0       NaN\n",
       "7       NaN\n",
       "16      NaN\n",
       "19      NaN\n",
       "32      NaN\n",
       "33      NaN\n",
       "34      NaN\n",
       "35      NaN\n",
       "36      NaN\n",
       "37      NaN\n",
       "44      NaN\n",
       "49      NaN\n",
       "54      NaN\n",
       "59      NaN\n",
       "65      NaN\n",
       "66      NaN\n",
       "70      NaN\n",
       "79      NaN\n",
       "84      NaN\n",
       "85      NaN\n",
       "94      NaN\n",
       "103     NaN\n",
       "112     NaN\n",
       "122     NaN\n",
       "125     NaN\n",
       "132     NaN\n",
       "140     NaN\n",
       "143     NaN\n",
       "149     NaN\n",
       "151     NaN\n",
       "         ..\n",
       "30512   NaN\n",
       "30515   NaN\n",
       "30519   NaN\n",
       "30530   NaN\n",
       "30541   NaN\n",
       "30554   NaN\n",
       "30556   NaN\n",
       "30567   NaN\n",
       "30569   NaN\n",
       "30583   NaN\n",
       "30593   NaN\n",
       "30613   NaN\n",
       "30616   NaN\n",
       "30617   NaN\n",
       "30630   NaN\n",
       "30631   NaN\n",
       "30633   NaN\n",
       "30635   NaN\n",
       "30636   NaN\n",
       "30638   NaN\n",
       "30646   NaN\n",
       "30648   NaN\n",
       "30655   NaN\n",
       "30659   NaN\n",
       "30664   NaN\n",
       "30668   NaN\n",
       "30680   NaN\n",
       "30682   NaN\n",
       "30686   NaN\n",
       "30693   NaN\n",
       "Name: shot_made_flag, dtype: float64"
      ]
     },
     "execution_count": 177,
     "metadata": {},
     "output_type": "execute_result"
    }
   ],
   "source": [
    "test_data.pop(\"shot_made_flag\")"
   ]
  },
  {
   "cell_type": "code",
   "execution_count": 178,
   "metadata": {
    "collapsed": false
   },
   "outputs": [],
   "source": [
    "scaler = StandardScaler().fit(test_data)\n",
    "test_data = scaler.transform(test_data)"
   ]
  },
  {
   "cell_type": "code",
   "execution_count": 179,
   "metadata": {
    "collapsed": false
   },
   "outputs": [],
   "source": [
    "y_pre=log_reg.predict_proba(test_data)"
   ]
  },
  {
   "cell_type": "code",
   "execution_count": 191,
   "metadata": {
    "collapsed": false
   },
   "outputs": [
    {
     "data": {
      "text/plain": [
       "(5000,)"
      ]
     },
     "execution_count": 191,
     "metadata": {},
     "output_type": "execute_result"
    }
   ],
   "source": [
    "y_pre[:,1].shape"
   ]
  },
  {
   "cell_type": "code",
   "execution_count": 188,
   "metadata": {
    "collapsed": false
   },
   "outputs": [
    {
     "data": {
      "text/plain": [
       "(5000,)"
      ]
     },
     "execution_count": 188,
     "metadata": {},
     "output_type": "execute_result"
    }
   ],
   "source": [
    "id_list.shape"
   ]
  },
  {
   "cell_type": "code",
   "execution_count": 193,
   "metadata": {
    "collapsed": false
   },
   "outputs": [],
   "source": [
    "submission = pd.DataFrame({'shot_id':id_list.values,'shot_made_flag':y_pre[:,1]})\n",
    "submission.to_csv('submission2.csv')"
   ]
  },
  {
   "cell_type": "code",
   "execution_count": null,
   "metadata": {
    "collapsed": true
   },
   "outputs": [],
   "source": []
  }
 ],
 "metadata": {
  "anaconda-cloud": {},
  "kernelspec": {
   "display_name": "Python [default]",
   "language": "python",
   "name": "python3"
  },
  "language_info": {
   "codemirror_mode": {
    "name": "ipython",
    "version": 3
   },
   "file_extension": ".py",
   "mimetype": "text/x-python",
   "name": "python",
   "nbconvert_exporter": "python",
   "pygments_lexer": "ipython3",
   "version": "3.5.2"
  }
 },
 "nbformat": 4,
 "nbformat_minor": 1
}
