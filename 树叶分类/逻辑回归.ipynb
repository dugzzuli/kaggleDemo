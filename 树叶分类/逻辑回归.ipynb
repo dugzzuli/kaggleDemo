{
 "cells": [
  {
   "cell_type": "code",
   "execution_count": 1,
   "metadata": {
    "collapsed": true
   },
   "outputs": [],
   "source": [
    "import pandas as pd\n",
    "import numpy as np\n",
    "from sklearn.linear_model import LogisticRegression\n",
    "from sklearn.grid_search import GridSearchCV\n",
    "from sklearn.preprocessing import LabelEncoder\n",
    "from sklearn.preprocessing import StandardScaler\n",
    "from sklearn import svm\n",
    "from sklearn.ensemble import RandomForestClassifier"
   ]
  },
  {
   "cell_type": "code",
   "execution_count": 2,
   "metadata": {
    "collapsed": true
   },
   "outputs": [],
   "source": [
    "np.random.seed(42)\n",
    "\n",
    "train = pd.read_csv('train.csv')\n",
    "x_train = train.drop(['id', 'species'], axis=1).values\n"
   ]
  },
  {
   "cell_type": "code",
   "execution_count": 3,
   "metadata": {
    "collapsed": true
   },
   "outputs": [],
   "source": [
    "#简单来说 LabelEncoder 是对不连续的数字或者文本进行编号\n",
    "le = LabelEncoder().fit(train['species'])\n",
    "y_train = le.transform(train['species'])\n",
    "#数据标准化\n",
    "scaler = StandardScaler().fit(x_train)\n",
    "\n",
    "x_train = scaler.transform(x_train)\n",
    "\n",
    "test = pd.read_csv('test.csv')\n",
    "#pop 出id 列表中不再存在\n",
    "test_ids = test.pop('id')\n",
    "x_test = test.values\n",
    "scaler = StandardScaler().fit(x_test)\n",
    "x_test = scaler.transform(x_test)"
   ]
  },
  {
   "cell_type": "code",
   "execution_count": 4,
   "metadata": {
    "collapsed": false
   },
   "outputs": [
    {
     "name": "stdout",
     "output_type": "stream",
     "text": [
      "[[-0.48661074 -0.13135701 -0.33095592 ..., -0.39487147 -0.65214311\n",
      "   0.26239707]\n",
      " [-0.58560191 -0.73488047 -0.02856115 ..., -0.49497401  2.18166976\n",
      "   0.13364087]\n",
      " [-0.58560191 -0.48340807 -0.48219201 ..., -0.52001246  0.83564129\n",
      "  -0.72463124]\n",
      " ..., \n",
      " [-0.78358426 -0.63430181 -1.23821765 ...,  0.1807566  -0.65214311\n",
      "  -0.76756462]\n",
      " [-0.88257543 -0.73488047  0.5762671  ..., -0.52001246 -0.51045972\n",
      "  -0.72463124]\n",
      " [ 0.30542003 -0.23196142 -0.02856115 ...,  0.08065405  1.18988604\n",
      "   0.13364087]]\n",
      "[ 3 49 65 94 84 40 54 78 53 89 98 16 74 50 58 31 43  4 75 44 83 84 13 66 15\n",
      "  6 73 22 73 31 36 27 94 88 12 28 21 25 20 60 84 65 69 58 23 76 18 52 54  9\n",
      " 48 47 64 81 83 36 58 21 81 20 62 88 34 92 79 82 20 32  4 84 36 35 72 60 71\n",
      " 72 52 50 54 11 51 18 47  5  8 37 97 20 33  1 59  1 56  1  9 57 20 79 29 16\n",
      " 32 54 93 10 46 59 84 76 15 10 15  0 69  4 51 51 94 36 39 62  2 24 26 35 25\n",
      " 87  0 55 34 38  1 45  7 93 56 38 21 51 75 81 74 33 20 37  9 40 60 31 83 50\n",
      " 71 67 30 66  1 43 61 23 65 84 87 46 57 16  2 28 12 96 44 76 29 75 41 87 67\n",
      " 61 30  5 12 62  3 83 81  6 85  4 37 57 84 39 71 61  6 76 14 31 98 40 17 51\n",
      " 16 42 63 86 37 69 86 71 80 78 14 35 25  5 39  8  9 26 44 60 13 14 77 13 80\n",
      " 87 18 60 78 92 51 45 78 41 51 30 14 35 46 21  8  6 92 38 40 15 32 17 93 71\n",
      " 92 27 78 15 19 60 21 38 36 49 74 67 95 31 82 45 16 83 63 80 42 22 74 53 15\n",
      " 44 47 57 94 76 17 32 24 15 93 24 80 59 46 12 51 77 79 70 69 16  2 63 83 55\n",
      " 12 53  1 67  0  2 36 42 10  9 52 59  6 22 86 31 51 37 43 75 90 24 86 96 45\n",
      " 32 98 36 66 48 73 73 79 56 41 21 25 27 97 18 44 45 40 80 63 20 35  0  8 27\n",
      " 25 35 59 61 21 37 29  6 19 78 50 54 37 93 33 46 79 59 29 43  0 23 17 38 66\n",
      " 38 89 17 25 31 65 10 26 86 58 42 46 24 95 93  8 53 32 14 10 94  8  8 64 44\n",
      " 74 30 97 22 11 68 56 90 96 16 43 57 91 24 28 82 90 64 61 92 28 84 70 45 85\n",
      " 34  7 88 89 61 26 88 41 46  8 91 41 14 98 28 26 36 70 74  7 52 70 42 66 22\n",
      " 13 44 91 53 22 16 40 40 28 70  6 60 95 23 16 50 29 49  9 18 55 63 60 19 28\n",
      " 30 31 85 66 88 63 83 64 96 13 34 27 95 36 72 29 91 22 65 71 66 11 32  2 75\n",
      " 39  5 37 67 81 55 61 57 81 82 63 55 54 35 86 25 24 96 10 58 59 28 89 54 52\n",
      " 85 68 69  8 39 95 39 82 48 74 52 74 55  9 47 84 91 12 96 82 64  7 40 73 77\n",
      " 11 36 68 23 28 46 75 43  2 11 47 53 56 62 62 80 56 30  3 88 37 33 73 76 21\n",
      "  5 76 87 68 83 62 57 47 19 88 96 42 23 44 87 82 49 63 24 94 69 54  5 79 43\n",
      " 12 50  5 52 92  4 84  1 33 49 26 18 44 13 24 73 89 78 67 41 11 46 47 69  0\n",
      " 18 98 44 85 29 53  1 45  3  9 13  2 66 59 79  6 17 43 83 26  1 12 49 71 89\n",
      " 58 93 39 42 15 38 55 15 93  4 90 88 55 40 55 17 34 94 57 92 81 26 60 89 49\n",
      " 89 30 65 58  4 19  4 76 74 71 21 54 13 16 72 68 62 61 25 72  7 12 18 77 90\n",
      " 62 14  3 78 65 37 27 50 95 98 60 72 58 38 87 93 19  7 83 50  3 91 77  7 64\n",
      " 61 69 23 76 65 48 41 92 20 91 18 70  9  9 29 85 67  0 35 98 91 90 31 53 39\n",
      " 24 85 96 17  7 11 96 39 56 90 79 45 64 97 41 19 74 11 10 62 95 28 96 10  7\n",
      " 68  7 93 34 42 68 41 14 22 58 12 71 27 98 72 91  3 43 19 61 75 20 81 63 67\n",
      " 56 26 47 11 31 57 62 66 19 75 97 94 13 75 95 32 50 97 52 87 32  3 47 77 48\n",
      " 33 73 64 49 68 43 94 77 68 47 82  2 30 23 33 34 66 33 35 88 68 27 87 54 79\n",
      " 34 67 65 18  4 26 30 52 86  0 29 80 67 95 39 25 70 58 35 27 17 38 91 13 23\n",
      " 77 79 77 22 49 98 48 46 48  5 63 97 80 53 20 25 78 10 65 33 41 85 90 98 97\n",
      " 71 95 52  3 29 69 51 70 27 22 34  6 48 72 21 89 17 97 72 80 10 57 64 92 38\n",
      " 15 73 87 73 48 42 82 33 56  3 42  1 53 55 90 19  6 30 86 64 49  2  8 45 76\n",
      " 92  0 23 69 59 80 90 32  5 59 85 89 94 45 48 86 81 14  4 77 56 82  2 85 70\n",
      " 88  0 75 14 86 81 97 70 72 34 40  5 11 78 50]\n"
     ]
    }
   ],
   "source": [
    "# params = {'C':[1, 10, 50, 100, 500, 1000, 2000], 'tol': [0.001, 0.0001, 0.005], 'solver':  [\"newton-cg\"]}\n",
    "# log_reg = LogisticRegression(multi_class=\"multinomial\")\n",
    "# clf = GridSearchCV(log_reg, params, scoring='log_loss', refit='True', n_jobs=1, cv=5)\n",
    "# clf.fit(x_train, y_train)\n",
    "# y_test = clf.predict_proba(x_test)\n",
    "\n",
    "log_reg = LogisticRegression(C=2000, multi_class=\"multinomial\", tol=0.0001, solver='newton-cg')\n",
    "print(x_train)\n",
    "print(y_train)\n",
    "log_reg.fit(x_train, y_train)\n",
    "y_test = log_reg.predict_proba(x_test)\n",
    "\n",
    "# params = {'n_estimators':[1, 10, 50, 100, 500]}\n",
    "# random_forest = RandomForestClassifier()\n",
    "# clf = GridSearchCV(random_forest, params, scoring='log_loss', refit='True', n_jobs=1, cv=5)\n",
    "# clf.fit(x_train, y_train)\n",
    "# y_test = clf.predict_proba(x_test)\n",
    "\n",
    "submission = pd.DataFrame(y_test, index=test_ids, columns=le.classes_)\n",
    "submission.to_csv('submission2.csv')"
   ]
  },
  {
   "cell_type": "code",
   "execution_count": 5,
   "metadata": {
    "collapsed": false
   },
   "outputs": [
    {
     "data": {
      "text/plain": [
       "<bound method ClassifierMixin.score of LogisticRegression(C=2000, class_weight=None, dual=False, fit_intercept=True,\n",
       "          intercept_scaling=1, max_iter=100, multi_class='multinomial',\n",
       "          n_jobs=1, penalty='l2', random_state=None, solver='newton-cg',\n",
       "          tol=0.0001, verbose=0, warm_start=False)>"
      ]
     },
     "execution_count": 5,
     "metadata": {},
     "output_type": "execute_result"
    }
   ],
   "source": [
    "log_reg.score"
   ]
  },
  {
   "cell_type": "code",
   "execution_count": null,
   "metadata": {
    "collapsed": true
   },
   "outputs": [],
   "source": []
  }
 ],
 "metadata": {
  "kernelspec": {
   "display_name": "Python [default]",
   "language": "python",
   "name": "python3"
  },
  "language_info": {
   "codemirror_mode": {
    "name": "ipython",
    "version": 3
   },
   "file_extension": ".py",
   "mimetype": "text/x-python",
   "name": "python",
   "nbconvert_exporter": "python",
   "pygments_lexer": "ipython3",
   "version": "3.5.2"
  }
 },
 "nbformat": 4,
 "nbformat_minor": 1
}
