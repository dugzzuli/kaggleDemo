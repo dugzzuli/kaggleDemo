{
 "cells": [
  {
   "cell_type": "code",
   "execution_count": 1,
   "metadata": {
    "collapsed": true
   },
   "outputs": [],
   "source": [
    "import pandas as pd\n",
    "import numpy as np\n",
    "from sklearn.linear_model import LogisticRegression\n",
    "from sklearn.grid_search import GridSearchCV\n",
    "from sklearn.preprocessing import LabelEncoder\n",
    "from sklearn.preprocessing import StandardScaler\n",
    "from sklearn import svm\n",
    "from sklearn.ensemble import RandomForestClassifier\n",
    "\n",
    "np.random.seed(42)\n",
    "\n",
    "train = pd.read_csv('train.csv')\n",
    "x_train = train.drop(['id', 'species'], axis=1).values\n",
    "#简单来说 LabelEncoder 是对不连续的数字或者文本进行编号\n",
    "le = LabelEncoder().fit(train['species'])\n",
    "y_train = le.transform(train['species'])\n",
    "#数据标准化\n",
    "scaler = StandardScaler().fit(x_train)\n",
    "\n",
    "x_train = scaler.transform(x_train)\n",
    "\n",
    "test = pd.read_csv('test.csv')\n",
    "#pop 出id 列表中不再存在\n",
    "test_ids = test.pop('id')\n",
    "x_test = test.values\n",
    "scaler = StandardScaler().fit(x_test)\n",
    "x_test = scaler.transform(x_test)\n",
    "\n",
    "# params = {'C':[1, 10, 50, 100, 500, 1000, 2000], 'tol': [0.001, 0.0001, 0.005], 'solver':  [\"newton-cg\"]}\n",
    "# log_reg = LogisticRegression(multi_class=\"multinomial\")\n",
    "# clf = GridSearchCV(log_reg, params, scoring='log_loss', refit='True', n_jobs=1, cv=5)\n",
    "# clf.fit(x_train, y_train)\n",
    "# y_test = clf.predict_proba(x_test)\n",
    "\n",
    "log_reg = LogisticRegression(C=2000, multi_class=\"multinomial\", tol=0.0001, solver='newton-cg')\n",
    "log_reg.fit(x_train, y_train)\n",
    "y_test = log_reg.predict_proba(x_test)\n",
    "\n",
    "# params = {'n_estimators':[1, 10, 50, 100, 500]}\n",
    "# random_forest = RandomForestClassifier()\n",
    "# clf = GridSearchCV(random_forest, params, scoring='log_loss', refit='True', n_jobs=1, cv=5)\n",
    "# clf.fit(x_train, y_train)\n",
    "# y_test = clf.predict_proba(x_test)"
   ]
  },
  {
   "cell_type": "code",
   "execution_count": 2,
   "metadata": {
    "collapsed": false
   },
   "outputs": [
    {
     "data": {
      "text/plain": [
       "array([[  7.01033895e-12,   7.29096521e-11,   1.59397498e-14, ...,\n",
       "          4.34489169e-16,   1.04439040e-07,   3.29218325e-13],\n",
       "       [  6.01895473e-11,   2.73694460e-10,   9.32553956e-09, ...,\n",
       "          1.80725046e-07,   4.31777336e-12,   8.79731253e-10],\n",
       "       [  3.79325099e-08,   9.98346124e-01,   3.29179632e-08, ...,\n",
       "          2.06929261e-11,   1.56216811e-09,   3.36728263e-05],\n",
       "       ..., \n",
       "       [  1.09746449e-09,   1.63758126e-09,   3.00791919e-10, ...,\n",
       "          3.58113381e-11,   7.19175837e-10,   2.00417018e-08],\n",
       "       [  1.11765095e-09,   1.22851082e-09,   7.01053812e-08, ...,\n",
       "          5.36597801e-10,   1.24887211e-12,   3.41894413e-10],\n",
       "       [  1.15684982e-12,   1.31944290e-07,   2.06985221e-08, ...,\n",
       "          2.26754281e-10,   2.28784535e-12,   4.13573211e-08]])"
      ]
     },
     "execution_count": 2,
     "metadata": {},
     "output_type": "execute_result"
    }
   ],
   "source": [
    "y_test"
   ]
  },
  {
   "cell_type": "code",
   "execution_count": 3,
   "metadata": {
    "collapsed": false
   },
   "outputs": [
    {
     "data": {
      "text/plain": [
       "0         4\n",
       "1         7\n",
       "2         9\n",
       "3        12\n",
       "4        13\n",
       "5        16\n",
       "6        19\n",
       "7        23\n",
       "8        24\n",
       "9        28\n",
       "10       33\n",
       "11       36\n",
       "12       39\n",
       "13       41\n",
       "14       44\n",
       "15       46\n",
       "16       47\n",
       "17       51\n",
       "18       52\n",
       "19       53\n",
       "20       57\n",
       "21       59\n",
       "22       62\n",
       "23       65\n",
       "24       68\n",
       "25       70\n",
       "26       74\n",
       "27       77\n",
       "28       79\n",
       "29       86\n",
       "       ... \n",
       "564    1493\n",
       "565    1495\n",
       "566    1497\n",
       "567    1498\n",
       "568    1503\n",
       "569    1510\n",
       "570    1513\n",
       "571    1517\n",
       "572    1522\n",
       "573    1526\n",
       "574    1528\n",
       "575    1533\n",
       "576    1534\n",
       "577    1535\n",
       "578    1537\n",
       "579    1540\n",
       "580    1542\n",
       "581    1546\n",
       "582    1553\n",
       "583    1558\n",
       "584    1560\n",
       "585    1564\n",
       "586    1565\n",
       "587    1567\n",
       "588    1573\n",
       "589    1576\n",
       "590    1577\n",
       "591    1579\n",
       "592    1580\n",
       "593    1583\n",
       "Name: id, dtype: int64"
      ]
     },
     "execution_count": 3,
     "metadata": {},
     "output_type": "execute_result"
    }
   ],
   "source": [
    "test_ids"
   ]
  },
  {
   "cell_type": "code",
   "execution_count": null,
   "metadata": {
    "collapsed": true
   },
   "outputs": [],
   "source": []
  }
 ],
 "metadata": {
  "anaconda-cloud": {},
  "kernelspec": {
   "display_name": "Python [conda root]",
   "language": "python",
   "name": "conda-root-py"
  },
  "language_info": {
   "codemirror_mode": {
    "name": "ipython",
    "version": 3
   },
   "file_extension": ".py",
   "mimetype": "text/x-python",
   "name": "python",
   "nbconvert_exporter": "python",
   "pygments_lexer": "ipython3",
   "version": "3.5.2"
  }
 },
 "nbformat": 4,
 "nbformat_minor": 1
}
