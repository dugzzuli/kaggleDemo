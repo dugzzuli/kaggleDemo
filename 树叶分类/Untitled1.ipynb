{
 "cells": [
  {
   "cell_type": "code",
   "execution_count": 1,
   "metadata": {
    "collapsed": true
   },
   "outputs": [],
   "source": [
    "import pandas as pd\n",
    "import numpy as np\n",
    "from sklearn.linear_model import LogisticRegression\n",
    "from sklearn.grid_search import GridSearchCV\n",
    "from sklearn.preprocessing import LabelEncoder\n",
    "from sklearn.preprocessing import StandardScaler\n",
    "from sklearn import svm\n",
    "from sklearn.ensemble import RandomForestClassifier\n",
    "\n",
    "np.random.seed(42)\n",
    "\n",
    "train = pd.read_csv('train.csv')\n",
    "x_train = train.drop(['id', 'species'], axis=1).values\n",
    "le = LabelEncoder().fit(train['species'])\n",
    "y_train = le.transform(train['species'])\n",
    "scaler = StandardScaler().fit(x_train)\n",
    "x_train = scaler.transform(x_train)\n",
    "\n",
    "test = pd.read_csv('test.csv')\n",
    "test_ids = test.pop('id')"
   ]
  },
  {
   "cell_type": "code",
   "execution_count": 6,
   "metadata": {
    "collapsed": true
   },
   "outputs": [],
   "source": [
    "x_test = test.values\n",
    "scaler = StandardScaler().fit(x_test)\n",
    "x_test = scaler.transform(x_test)\n",
    "\n",
    "# params = {'C':[1, 10, 50, 100, 500, 1000, 2000], 'tol': [0.001, 0.0001, 0.005], 'solver':  [\"newton-cg\"]}\n",
    "# log_reg = LogisticRegression(multi_class=\"multinomial\")\n",
    "# clf = GridSearchCV(log_reg, params, scoring='log_loss', refit='True', n_jobs=1, cv=5)\n",
    "# clf.fit(x_train, y_train)\n",
    "# y_test = clf.predict_proba(x_test)\n",
    "\n",
    "log_reg = LogisticRegression(C=2000, multi_class=\"multinomial\", tol=0.0001, solver='newton-cg')\n",
    "log_reg.fit(x_train, y_train)\n",
    "y_test = log_reg.predict_proba(x_test)\n",
    "\n",
    "# params = {'n_estimators':[1, 10, 50, 100, 500]}\n",
    "# random_forest = RandomForestClassifier()\n",
    "# clf = GridSearchCV(random_forest, params, scoring='log_loss', refit='True', n_jobs=1, cv=5)\n",
    "# clf.fit(x_train, y_train)\n",
    "# y_test = clf.predict_proba(x_test)\n",
    "\n",
    "submission = pd.DataFrame(y_test, index=test_ids, columns=le.classes_)\n",
    "submission.to_csv('submission2.csv')"
   ]
  },
  {
   "cell_type": "code",
   "execution_count": 17,
   "metadata": {
    "collapsed": true
   },
   "outputs": [],
   "source": [
    "# import------------------------------------\n",
    "from pandas import DataFrame\n",
    "from pandas import Series\n",
    "import pandas as pd\n",
    "from sklearn.tree import DecisionTreeRegressor\n",
    "from sklearn.ensemble import RandomForestRegressor\n",
    "import numpy as np\n",
    "\n",
    "# read-------------------------------------\n",
    "trainPath = 'train.csv'\n",
    "prodictPath = 'test.csv'\n",
    "samplePath = 'sample_submission.csv'\n",
    "savePath = 'result.csv'\n",
    "\n",
    "trainSet = pd.read_csv(trainPath)\n",
    "prodictSet = pd.read_csv(prodictPath)\n",
    "submissionSet = pd.read_csv(samplePath)\n",
    "\n",
    "# data_transform---------------------------\n",
    "targetSet = trainSet['species']\n",
    "train = trainSet.drop('species', axis=1)\n",
    "\n",
    "targetTypeDict = Series(targetSet.unique()).to_dict()\n",
    "targetTypeMapDict = dict((v, k) for k, v in targetTypeDict.items())\n",
    "\n",
    "targetSet = targetSet.map(targetTypeMapDict)\n",
    "\n",
    "# randomForest------------------------------------\n",
    "\n",
    "rf = RandomForestRegressor()\n",
    "rf.fit(train, targetSet)\n",
    "res = rf.predict(prodictSet)\n",
    "# data_reform--------------------------------\n",
    "\n",
    "res = np.around(res, decimals=0)\n",
    "resSeries = Series(res)"
   ]
  },
  {
   "cell_type": "code",
   "execution_count": 22,
   "metadata": {
    "collapsed": false
   },
   "outputs": [
    {
     "data": {
      "text/plain": [
       "0       0\n",
       "1       1\n",
       "2       2\n",
       "3       3\n",
       "4       4\n",
       "5       5\n",
       "6       6\n",
       "7       7\n",
       "8       8\n",
       "9       9\n",
       "10     10\n",
       "11     11\n",
       "12     12\n",
       "13     13\n",
       "14     14\n",
       "15     15\n",
       "16     16\n",
       "17     17\n",
       "18     18\n",
       "19     19\n",
       "20     20\n",
       "21      4\n",
       "22     21\n",
       "23     22\n",
       "24     23\n",
       "25     24\n",
       "26     25\n",
       "27     26\n",
       "28     25\n",
       "29     15\n",
       "       ..\n",
       "960    85\n",
       "961     9\n",
       "962     3\n",
       "963    78\n",
       "964    42\n",
       "965    90\n",
       "966    45\n",
       "967    86\n",
       "968    17\n",
       "969    92\n",
       "970    64\n",
       "971    50\n",
       "972    72\n",
       "973    85\n",
       "974    95\n",
       "975    29\n",
       "976    70\n",
       "977    18\n",
       "978    86\n",
       "979    90\n",
       "980    45\n",
       "981    60\n",
       "982    95\n",
       "983    53\n",
       "984    47\n",
       "985     5\n",
       "986    57\n",
       "987    55\n",
       "988     7\n",
       "989    13\n",
       "Name: species, dtype: int64"
      ]
     },
     "execution_count": 22,
     "metadata": {},
     "output_type": "execute_result"
    }
   ],
   "source": [
    "targetSet"
   ]
  },
  {
   "cell_type": "code",
   "execution_count": 16,
   "metadata": {
    "collapsed": false
   },
   "outputs": [
    {
     "data": {
      "text/plain": [
       "0                Populus_Adenopoda\n",
       "1                  Fagus_Sylvatica\n",
       "2                 Cornus_Chinensis\n",
       "3                  Quercus_Trojana\n",
       "4              Cercis_Siliquastrum\n",
       "5                  Quercus_Trojana\n",
       "6            Betula_Austrosinensis\n",
       "7                    Acer_Palmatum\n",
       "8                  Zelkova_Serrata\n",
       "9                    Acer_Palmatum\n",
       "10                    Quercus_Ilex\n",
       "11               Quercus_Pubescens\n",
       "12                Cornus_Chinensis\n",
       "13     Rhododendron_x_Russellianum\n",
       "14                Quercus_Kewensis\n",
       "15               Cotinus_Coggygria\n",
       "16                Quercus_Kewensis\n",
       "17                 Acer_Platanoids\n",
       "18          Eucalyptus_Glaucescens\n",
       "19             Cercis_Siliquastrum\n",
       "20                   Quercus_Suber\n",
       "21                    Prunus_Avium\n",
       "22               Quercus_Pyrenaica\n",
       "23            Callicarpa_Bodinieri\n",
       "24              Cornus_Controversa\n",
       "25            Quercus_Dolicholepis\n",
       "26                     Alnus_Rubra\n",
       "27               Cotinus_Coggygria\n",
       "28               Quercus_Alnifolia\n",
       "29                 Quercus_Phellos\n",
       "                  ...             \n",
       "564           Quercus_Dolicholepis\n",
       "565                 Acer_Rufinerve\n",
       "566              Quercus_Pubescens\n",
       "567                Acer_Circinatum\n",
       "568      Lithocarpus_Cleistocarpus\n",
       "569                Acer_Circinatum\n",
       "570                 Acer_Rufinerve\n",
       "571          Quercus_Castaneifolia\n",
       "572              Quercus_Pubescens\n",
       "573                 Quercus_Cerris\n",
       "574            Cercis_Siliquastrum\n",
       "575    Rhododendron_x_Russellianum\n",
       "576             Crataegus_Monogyna\n",
       "577            Quercus_Chrysolepis\n",
       "578                Ilex_Aquifolium\n",
       "579                Ilex_Aquifolium\n",
       "580                  Quercus_Suber\n",
       "581                  Acer_Palmatum\n",
       "582                    Acer_Pictum\n",
       "583              Quercus_Shumardii\n",
       "584           Callicarpa_Bodinieri\n",
       "585                    Acer_Pictum\n",
       "586                Acer_Platanoids\n",
       "587                Quercus_Phellos\n",
       "588              Alnus_Sieboldiana\n",
       "589                  Tilia_Oliveri\n",
       "590            Cercis_Siliquastrum\n",
       "591              Populus_Adenopoda\n",
       "592                 Quercus_Texana\n",
       "593            Cercis_Siliquastrum\n",
       "dtype: object"
      ]
     },
     "execution_count": 16,
     "metadata": {},
     "output_type": "execute_result"
    }
   ],
   "source": [
    "resSeries"
   ]
  },
  {
   "cell_type": "code",
   "execution_count": null,
   "metadata": {
    "collapsed": true
   },
   "outputs": [],
   "source": []
  }
 ],
 "metadata": {
  "anaconda-cloud": {},
  "kernelspec": {
   "display_name": "Python [conda root]",
   "language": "python",
   "name": "conda-root-py"
  },
  "language_info": {
   "codemirror_mode": {
    "name": "ipython",
    "version": 3
   },
   "file_extension": ".py",
   "mimetype": "text/x-python",
   "name": "python",
   "nbconvert_exporter": "python",
   "pygments_lexer": "ipython3",
   "version": "3.5.2"
  }
 },
 "nbformat": 4,
 "nbformat_minor": 0
}
