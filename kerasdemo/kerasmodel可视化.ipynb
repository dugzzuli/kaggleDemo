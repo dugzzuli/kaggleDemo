{
 "cells": [
  {
   "cell_type": "code",
   "execution_count": 3,
   "metadata": {
    "collapsed": false
   },
   "outputs": [
    {
     "ename": "ImportError",
     "evalue": "No module named 'keras.utils.visualize_util'",
     "output_type": "error",
     "traceback": [
      "\u001b[0;31m---------------------------------------------------------------------------\u001b[0m",
      "\u001b[0;31mImportError\u001b[0m                               Traceback (most recent call last)",
      "\u001b[0;32m<ipython-input-3-f8d22b51ad6a>\u001b[0m in \u001b[0;36m<module>\u001b[0;34m()\u001b[0m\n\u001b[1;32m      2\u001b[0m \u001b[1;32mfrom\u001b[0m \u001b[0mkeras\u001b[0m\u001b[1;33m.\u001b[0m\u001b[0mmodels\u001b[0m \u001b[1;32mimport\u001b[0m \u001b[0mModel\u001b[0m\u001b[1;33m\u001b[0m\u001b[0m\n\u001b[1;32m      3\u001b[0m \u001b[1;32mfrom\u001b[0m \u001b[0mkeras\u001b[0m \u001b[1;32mimport\u001b[0m \u001b[0mregularizers\u001b[0m\u001b[1;33m\u001b[0m\u001b[0m\n\u001b[0;32m----> 4\u001b[0;31m \u001b[1;32mfrom\u001b[0m \u001b[0mkeras\u001b[0m\u001b[1;33m.\u001b[0m\u001b[0mutils\u001b[0m\u001b[1;33m.\u001b[0m\u001b[0mvisualize_util\u001b[0m \u001b[1;32mimport\u001b[0m \u001b[0mplot\u001b[0m\u001b[1;33m\u001b[0m\u001b[0m\n\u001b[0m\u001b[1;32m      5\u001b[0m \u001b[1;33m\u001b[0m\u001b[0m\n\u001b[1;32m      6\u001b[0m \u001b[0mencoding_dim\u001b[0m \u001b[1;33m=\u001b[0m \u001b[1;36m32\u001b[0m\u001b[1;33m\u001b[0m\u001b[0m\n",
      "\u001b[0;31mImportError\u001b[0m: No module named 'keras.utils.visualize_util'"
     ]
    }
   ],
   "source": [
    "from keras.layers import Input , Dense  \n",
    "from keras.models import Model  \n",
    "from keras import regularizers  \n",
    "from keras.utils.visualize_util import plot  \n",
    "  \n",
    "encoding_dim = 32  \n",
    "  \n",
    "input_img = Input(shape = (784,))  \n",
    "encoded = Dense(encoding_dim , activation = 'relu' )(input_img)  \n",
    "decoded = Dense(784 , activation = 'sigmoid')(encoded)  \n",
    "autoencoder = Model(input = input_img , output = decoded)  \n",
    "  \n",
    "# this model maps an input to its encoded representation  \n",
    "encoder = Model(input=input_img, output=encoded)  \n",
    "# create a placeholder for an encoded (32-dimensional) input  \n",
    "encoded_input = Input(shape=(encoding_dim,))  \n",
    "# retrieve the last layer of the autoencoder model  \n",
    "decoder_layer = autoencoder.layers[-1]  \n",
    "# create the decoder model  \n",
    "decoder = Model(input=encoded_input, output=decoder_layer(encoded_input))  \n",
    "  \n",
    "autoencoder.compile(optimizer = 'adadelta' , loss = 'binary_crossentropy')  \n",
    "  \n",
    "plot(autoencoder, to_file='model1.png',show_shapes=True)  "
   ]
  },
  {
   "cell_type": "code",
   "execution_count": null,
   "metadata": {
    "collapsed": true
   },
   "outputs": [],
   "source": []
  }
 ],
 "metadata": {
  "anaconda-cloud": {},
  "kernelspec": {
   "display_name": "Python [default]",
   "language": "python",
   "name": "python3"
  },
  "language_info": {
   "codemirror_mode": {
    "name": "ipython",
    "version": 3
   },
   "file_extension": ".py",
   "mimetype": "text/x-python",
   "name": "python",
   "nbconvert_exporter": "python",
   "pygments_lexer": "ipython3",
   "version": "3.5.2"
  }
 },
 "nbformat": 4,
 "nbformat_minor": 1
}
